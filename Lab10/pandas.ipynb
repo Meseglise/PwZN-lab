{
 "cells": [
  {
   "cell_type": "code",
   "execution_count": 3,
   "id": "ab6f292a-7d9a-4de0-a8e7-4b2048095437",
   "metadata": {},
   "outputs": [],
   "source": [
    "import pandas as pd\n",
    "import numpy as np\n",
    "import numpy as np\n"
   ]
  },
  {
   "cell_type": "code",
   "execution_count": 4,
   "id": "0f67fbc1-47b3-4314-82a9-bc858f018248",
   "metadata": {},
   "outputs": [],
   "source": [
    "ad = pd.read_csv('apple-production.csv')"
   ]
  },
  {
   "cell_type": "code",
   "execution_count": 5,
   "id": "9e050248-3b89-4714-9452-cd390308afdf",
   "metadata": {},
   "outputs": [
    {
     "data": {
      "text/html": [
       "<div>\n",
       "<style scoped>\n",
       "    .dataframe tbody tr th:only-of-type {\n",
       "        vertical-align: middle;\n",
       "    }\n",
       "\n",
       "    .dataframe tbody tr th {\n",
       "        vertical-align: top;\n",
       "    }\n",
       "\n",
       "    .dataframe thead th {\n",
       "        text-align: right;\n",
       "    }\n",
       "</style>\n",
       "<table border=\"1\" class=\"dataframe\">\n",
       "  <thead>\n",
       "    <tr style=\"text-align: right;\">\n",
       "      <th></th>\n",
       "      <th>Entity</th>\n",
       "      <th>Code</th>\n",
       "      <th>Year</th>\n",
       "      <th>Crops - Apples - 515 - Production - 5510 - tonnes</th>\n",
       "    </tr>\n",
       "  </thead>\n",
       "  <tbody>\n",
       "    <tr>\n",
       "      <th>0</th>\n",
       "      <td>Afghanistan</td>\n",
       "      <td>AFG</td>\n",
       "      <td>1961</td>\n",
       "      <td>15100</td>\n",
       "    </tr>\n",
       "    <tr>\n",
       "      <th>1</th>\n",
       "      <td>Afghanistan</td>\n",
       "      <td>AFG</td>\n",
       "      <td>1962</td>\n",
       "      <td>15100</td>\n",
       "    </tr>\n",
       "    <tr>\n",
       "      <th>2</th>\n",
       "      <td>Afghanistan</td>\n",
       "      <td>AFG</td>\n",
       "      <td>1963</td>\n",
       "      <td>15100</td>\n",
       "    </tr>\n",
       "    <tr>\n",
       "      <th>3</th>\n",
       "      <td>Afghanistan</td>\n",
       "      <td>AFG</td>\n",
       "      <td>1964</td>\n",
       "      <td>18400</td>\n",
       "    </tr>\n",
       "    <tr>\n",
       "      <th>4</th>\n",
       "      <td>Afghanistan</td>\n",
       "      <td>AFG</td>\n",
       "      <td>1965</td>\n",
       "      <td>20400</td>\n",
       "    </tr>\n",
       "    <tr>\n",
       "      <th>...</th>\n",
       "      <td>...</td>\n",
       "      <td>...</td>\n",
       "      <td>...</td>\n",
       "      <td>...</td>\n",
       "    </tr>\n",
       "    <tr>\n",
       "      <th>6193</th>\n",
       "      <td>Zimbabwe</td>\n",
       "      <td>ZWE</td>\n",
       "      <td>2014</td>\n",
       "      <td>6670</td>\n",
       "    </tr>\n",
       "    <tr>\n",
       "      <th>6194</th>\n",
       "      <td>Zimbabwe</td>\n",
       "      <td>ZWE</td>\n",
       "      <td>2015</td>\n",
       "      <td>6644</td>\n",
       "    </tr>\n",
       "    <tr>\n",
       "      <th>6195</th>\n",
       "      <td>Zimbabwe</td>\n",
       "      <td>ZWE</td>\n",
       "      <td>2016</td>\n",
       "      <td>6539</td>\n",
       "    </tr>\n",
       "    <tr>\n",
       "      <th>6196</th>\n",
       "      <td>Zimbabwe</td>\n",
       "      <td>ZWE</td>\n",
       "      <td>2017</td>\n",
       "      <td>6502</td>\n",
       "    </tr>\n",
       "    <tr>\n",
       "      <th>6197</th>\n",
       "      <td>Zimbabwe</td>\n",
       "      <td>ZWE</td>\n",
       "      <td>2018</td>\n",
       "      <td>6466</td>\n",
       "    </tr>\n",
       "  </tbody>\n",
       "</table>\n",
       "<p>6198 rows × 4 columns</p>\n",
       "</div>"
      ],
      "text/plain": [
       "           Entity Code  Year  \\\n",
       "0     Afghanistan  AFG  1961   \n",
       "1     Afghanistan  AFG  1962   \n",
       "2     Afghanistan  AFG  1963   \n",
       "3     Afghanistan  AFG  1964   \n",
       "4     Afghanistan  AFG  1965   \n",
       "...           ...  ...   ...   \n",
       "6193     Zimbabwe  ZWE  2014   \n",
       "6194     Zimbabwe  ZWE  2015   \n",
       "6195     Zimbabwe  ZWE  2016   \n",
       "6196     Zimbabwe  ZWE  2017   \n",
       "6197     Zimbabwe  ZWE  2018   \n",
       "\n",
       "      Crops - Apples - 515 - Production - 5510 - tonnes  \n",
       "0                                                 15100  \n",
       "1                                                 15100  \n",
       "2                                                 15100  \n",
       "3                                                 18400  \n",
       "4                                                 20400  \n",
       "...                                                 ...  \n",
       "6193                                               6670  \n",
       "6194                                               6644  \n",
       "6195                                               6539  \n",
       "6196                                               6502  \n",
       "6197                                               6466  \n",
       "\n",
       "[6198 rows x 4 columns]"
      ]
     },
     "execution_count": 5,
     "metadata": {},
     "output_type": "execute_result"
    }
   ],
   "source": [
    "ad"
   ]
  },
  {
   "cell_type": "code",
   "execution_count": 6,
   "id": "4313d399-961b-4638-a94c-cc99cbce877a",
   "metadata": {},
   "outputs": [
    {
     "data": {
      "text/plain": [
       "array([15100, 15100, 15100, ...,  6539,  6502,  6466], dtype=int64)"
      ]
     },
     "execution_count": 6,
     "metadata": {},
     "output_type": "execute_result"
    }
   ],
   "source": [
    "ad['Crops - Apples - 515 - Production - 5510 - tonnes'].to_numpy()"
   ]
  },
  {
   "cell_type": "code",
   "execution_count": 7,
   "id": "e2ce907b-eaac-498c-88cb-8a5a1042bacf",
   "metadata": {},
   "outputs": [
    {
     "data": {
      "text/plain": [
       "Entity                                               object\n",
       "Code                                                 object\n",
       "Year                                                  int64\n",
       "Crops - Apples - 515 - Production - 5510 - tonnes     int64\n",
       "dtype: object"
      ]
     },
     "execution_count": 7,
     "metadata": {},
     "output_type": "execute_result"
    }
   ],
   "source": [
    "ad.dtypes"
   ]
  },
  {
   "cell_type": "code",
   "execution_count": 8,
   "id": "39281e3e-abfd-4be5-9ad6-b92128f6c478",
   "metadata": {},
   "outputs": [
    {
     "data": {
      "text/plain": [
       "58"
      ]
     },
     "execution_count": 8,
     "metadata": {},
     "output_type": "execute_result"
    }
   ],
   "source": [
    "(ad['Entity'] == 'Poland').sum()"
   ]
  },
  {
   "cell_type": "code",
   "execution_count": 9,
   "id": "af37b73e-48f8-46bc-9c80-e0fb54c0aa74",
   "metadata": {},
   "outputs": [],
   "source": [
    "sad = ad.groupby('Entity').agg(Summarised_apple_production = ('Crops - Apples - 515 - Production - 5510 - tonnes', np.sum))"
   ]
  },
  {
   "cell_type": "code",
   "execution_count": 10,
   "id": "44225f65-a4b0-43cd-bd6d-e032b9a9d75d",
   "metadata": {},
   "outputs": [
    {
     "data": {
      "text/plain": [
       "Summarised_apple_production    2731467611\n",
       "dtype: int64"
      ]
     },
     "execution_count": 10,
     "metadata": {},
     "output_type": "execute_result"
    }
   ],
   "source": [
    "sad.max()"
   ]
  },
  {
   "cell_type": "code",
   "execution_count": 11,
   "id": "5bea9511-4e42-49ee-8f36-57ad1066b30e",
   "metadata": {},
   "outputs": [
    {
     "data": {
      "text/html": [
       "<div>\n",
       "<style scoped>\n",
       "    .dataframe tbody tr th:only-of-type {\n",
       "        vertical-align: middle;\n",
       "    }\n",
       "\n",
       "    .dataframe tbody tr th {\n",
       "        vertical-align: top;\n",
       "    }\n",
       "\n",
       "    .dataframe thead th {\n",
       "        text-align: right;\n",
       "    }\n",
       "</style>\n",
       "<table border=\"1\" class=\"dataframe\">\n",
       "  <thead>\n",
       "    <tr style=\"text-align: right;\">\n",
       "      <th></th>\n",
       "      <th>Summarised_apple_production</th>\n",
       "    </tr>\n",
       "    <tr>\n",
       "      <th>Entity</th>\n",
       "      <th></th>\n",
       "    </tr>\n",
       "  </thead>\n",
       "  <tbody>\n",
       "    <tr>\n",
       "      <th>Afghanistan</th>\n",
       "      <td>2260156</td>\n",
       "    </tr>\n",
       "    <tr>\n",
       "      <th>Africa</th>\n",
       "      <td>68806629</td>\n",
       "    </tr>\n",
       "    <tr>\n",
       "      <th>Albania</th>\n",
       "      <td>1483209</td>\n",
       "    </tr>\n",
       "    <tr>\n",
       "      <th>Algeria</th>\n",
       "      <td>7096529</td>\n",
       "    </tr>\n",
       "    <tr>\n",
       "      <th>Americas</th>\n",
       "      <td>412217160</td>\n",
       "    </tr>\n",
       "    <tr>\n",
       "      <th>...</th>\n",
       "      <td>...</td>\n",
       "    </tr>\n",
       "    <tr>\n",
       "      <th>Western Asia</th>\n",
       "      <td>142074924</td>\n",
       "    </tr>\n",
       "    <tr>\n",
       "      <th>World</th>\n",
       "      <td>2731467611</td>\n",
       "    </tr>\n",
       "    <tr>\n",
       "      <th>Yemen</th>\n",
       "      <td>299943</td>\n",
       "    </tr>\n",
       "    <tr>\n",
       "      <th>Yugoslavia</th>\n",
       "      <td>12494818</td>\n",
       "    </tr>\n",
       "    <tr>\n",
       "      <th>Zimbabwe</th>\n",
       "      <td>289940</td>\n",
       "    </tr>\n",
       "  </tbody>\n",
       "</table>\n",
       "<p>129 rows × 1 columns</p>\n",
       "</div>"
      ],
      "text/plain": [
       "              Summarised_apple_production\n",
       "Entity                                   \n",
       "Afghanistan                       2260156\n",
       "Africa                           68806629\n",
       "Albania                           1483209\n",
       "Algeria                           7096529\n",
       "Americas                        412217160\n",
       "...                                   ...\n",
       "Western Asia                    142074924\n",
       "World                          2731467611\n",
       "Yemen                              299943\n",
       "Yugoslavia                       12494818\n",
       "Zimbabwe                           289940\n",
       "\n",
       "[129 rows x 1 columns]"
      ]
     },
     "execution_count": 11,
     "metadata": {},
     "output_type": "execute_result"
    }
   ],
   "source": [
    "sad"
   ]
  },
  {
   "cell_type": "code",
   "execution_count": 12,
   "id": "d2ac5155-2771-4b87-8a5b-888865cadcac",
   "metadata": {},
   "outputs": [],
   "source": [
    "sadtw = sad/2731467611"
   ]
  },
  {
   "cell_type": "code",
   "execution_count": 13,
   "id": "3218dc76-b81c-4f3f-894e-4122ab103f2e",
   "metadata": {},
   "outputs": [
    {
     "data": {
      "text/html": [
       "<div>\n",
       "<style scoped>\n",
       "    .dataframe tbody tr th:only-of-type {\n",
       "        vertical-align: middle;\n",
       "    }\n",
       "\n",
       "    .dataframe tbody tr th {\n",
       "        vertical-align: top;\n",
       "    }\n",
       "\n",
       "    .dataframe thead th {\n",
       "        text-align: right;\n",
       "    }\n",
       "</style>\n",
       "<table border=\"1\" class=\"dataframe\">\n",
       "  <thead>\n",
       "    <tr style=\"text-align: right;\">\n",
       "      <th></th>\n",
       "      <th>Summarised_apple_production</th>\n",
       "    </tr>\n",
       "    <tr>\n",
       "      <th>Entity</th>\n",
       "      <th></th>\n",
       "    </tr>\n",
       "  </thead>\n",
       "  <tbody>\n",
       "    <tr>\n",
       "      <th>Afghanistan</th>\n",
       "      <td>0.000827</td>\n",
       "    </tr>\n",
       "    <tr>\n",
       "      <th>Africa</th>\n",
       "      <td>0.025190</td>\n",
       "    </tr>\n",
       "    <tr>\n",
       "      <th>Albania</th>\n",
       "      <td>0.000543</td>\n",
       "    </tr>\n",
       "    <tr>\n",
       "      <th>Algeria</th>\n",
       "      <td>0.002598</td>\n",
       "    </tr>\n",
       "    <tr>\n",
       "      <th>Americas</th>\n",
       "      <td>0.150914</td>\n",
       "    </tr>\n",
       "    <tr>\n",
       "      <th>...</th>\n",
       "      <td>...</td>\n",
       "    </tr>\n",
       "    <tr>\n",
       "      <th>Western Asia</th>\n",
       "      <td>0.052014</td>\n",
       "    </tr>\n",
       "    <tr>\n",
       "      <th>World</th>\n",
       "      <td>1.000000</td>\n",
       "    </tr>\n",
       "    <tr>\n",
       "      <th>Yemen</th>\n",
       "      <td>0.000110</td>\n",
       "    </tr>\n",
       "    <tr>\n",
       "      <th>Yugoslavia</th>\n",
       "      <td>0.004574</td>\n",
       "    </tr>\n",
       "    <tr>\n",
       "      <th>Zimbabwe</th>\n",
       "      <td>0.000106</td>\n",
       "    </tr>\n",
       "  </tbody>\n",
       "</table>\n",
       "<p>129 rows × 1 columns</p>\n",
       "</div>"
      ],
      "text/plain": [
       "              Summarised_apple_production\n",
       "Entity                                   \n",
       "Afghanistan                      0.000827\n",
       "Africa                           0.025190\n",
       "Albania                          0.000543\n",
       "Algeria                          0.002598\n",
       "Americas                         0.150914\n",
       "...                                   ...\n",
       "Western Asia                     0.052014\n",
       "World                            1.000000\n",
       "Yemen                            0.000110\n",
       "Yugoslavia                       0.004574\n",
       "Zimbabwe                         0.000106\n",
       "\n",
       "[129 rows x 1 columns]"
      ]
     },
     "execution_count": 13,
     "metadata": {},
     "output_type": "execute_result"
    }
   ],
   "source": [
    "sadtw"
   ]
  },
  {
   "cell_type": "code",
   "execution_count": 61,
   "id": "6361a444-9503-4716-83f5-d1ecf939f02f",
   "metadata": {},
   "outputs": [],
   "source": [
    "perc_ap = sadtw.sort_values('Summarised_apple_production')"
   ]
  },
  {
   "cell_type": "code",
   "execution_count": 63,
   "id": "4d9cf1fc-c57e-4b27-a0df-f1c51aebca39",
   "metadata": {},
   "outputs": [
    {
     "data": {
      "text/plain": [
       "<bound method NDFrame.tail of               Summarised_apple_production\n",
       "Entity                                   \n",
       "Reunion                          0.000001\n",
       "Honduras                         0.000002\n",
       "Malta                            0.000004\n",
       "Palestine                        0.000008\n",
       "Montenegro                       0.000010\n",
       "...                                   ...\n",
       "China                            0.282175\n",
       "Eastern Asia                     0.321565\n",
       "Europe                           0.366485\n",
       "Asia                             0.443578\n",
       "World                            1.000000\n",
       "\n",
       "[129 rows x 1 columns]>"
      ]
     },
     "execution_count": 64,
     "metadata": {},
     "output_type": "execute_result"
    }
   ],
   "source": [
    "perc_ap.tail"
   ]
  },
  {
   "cell_type": "code",
   "execution_count": 66,
   "id": "df362add-0fd6-4e0c-8eac-e07650bf4925",
   "metadata": {},
   "outputs": [],
   "source": [
    "name_ap = sadtw.sort_values('Summarised_apple_production')"
   ]
  },
  {
   "cell_type": "code",
   "execution_count": 71,
   "id": "5890f542-9082-4540-8840-838a3c81783f",
   "metadata": {},
   "outputs": [],
   "source": [
    "np_name_ap = name_ap.to_numpy()"
   ]
  },
  {
   "cell_type": "code",
   "execution_count": 69,
   "id": "2a705f43-8272-4413-b936-02a16189afef",
   "metadata": {},
   "outputs": [],
   "source": [
    "names = [\"Turkey\", \"Italy\", \"Low Income Food Deficit Countries\", \"South America\", \"France\", \"Western Asia\", \"USSR\", \"Souther Asia\", \"Southern Europe\", \"United States\", \"Northern America\", \"Western Europe\", \"Americas\", \"Eastern Europe\", \"European Union\", \"China\", \"Eastern Asia\", \"Europe\", \"Asia\", \"World\"]\n"
   ]
  },
  {
   "cell_type": "code",
   "execution_count": 72,
   "id": "82ce535d-93b6-46e9-b28f-b07a7c163d08",
   "metadata": {},
   "outputs": [
    {
     "data": {
      "text/plain": [
       "array([[0.03760154],\n",
       "       [0.04522474],\n",
       "       [0.04813611],\n",
       "       [0.04883675],\n",
       "       [0.04989476],\n",
       "       [0.05201413],\n",
       "       [0.05926008],\n",
       "       [0.06024523],\n",
       "       [0.08152291],\n",
       "       [0.08345913],\n",
       "       [0.09296665],\n",
       "       [0.1126196 ],\n",
       "       [0.15091417],\n",
       "       [0.15945525],\n",
       "       [0.25629423],\n",
       "       [0.28217459],\n",
       "       [0.32156535],\n",
       "       [0.36648474],\n",
       "       [0.44357828],\n",
       "       [1.        ]])"
      ]
     },
     "execution_count": 72,
     "metadata": {},
     "output_type": "execute_result"
    }
   ],
   "source": [
    "np_name_ap[109:129]"
   ]
  },
  {
   "cell_type": "code",
   "execution_count": null,
   "id": "0af5b004-b62d-4439-acf7-3f96ed68f1aa",
   "metadata": {},
   "outputs": [],
   "source": []
  }
 ],
 "metadata": {
  "kernelspec": {
   "display_name": "Python 3 (ipykernel)",
   "language": "python",
   "name": "python3"
  },
  "language_info": {
   "codemirror_mode": {
    "name": "ipython",
    "version": 3
   },
   "file_extension": ".py",
   "mimetype": "text/x-python",
   "name": "python",
   "nbconvert_exporter": "python",
   "pygments_lexer": "ipython3",
   "version": "3.8.6"
  }
 },
 "nbformat": 4,
 "nbformat_minor": 5
}
